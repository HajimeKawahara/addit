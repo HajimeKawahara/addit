{
 "cells": [
  {
   "cell_type": "markdown",
   "metadata": {},
   "source": [
    "## Computing neighbouring contribution function "
   ]
  },
  {
   "cell_type": "code",
   "execution_count": 1,
   "metadata": {},
   "outputs": [],
   "source": [
    "# 1D case \n",
    "# params = x\n",
    "# xgrid: xv "
   ]
  },
  {
   "cell_type": "code",
   "execution_count": 1,
   "metadata": {},
   "outputs": [],
   "source": [
    "import jax.numpy as jnp\n",
    "import numpy as np\n",
    "from jax import jit\n",
    "from jax import vmap"
   ]
  },
  {
   "cell_type": "code",
   "execution_count": 2,
   "metadata": {},
   "outputs": [],
   "source": [
    "@jit\n",
    "def conti(i,x,xv):\n",
    "    \"\"\"contribution function for index i.  \n",
    "    \n",
    "    Args:\n",
    "        i: index \n",
    "        x: x value\n",
    "        xv: x grid\n",
    "            \n",
    "    Returns:\n",
    "        contribution for i\n",
    "        \n",
    "    \"\"\"\n",
    "    indarr=jnp.arange(len(xv))\n",
    "    pos = jnp.interp(x,xv,indarr)\n",
    "    index = (pos).astype(int)\n",
    "    cont = pos-index\n",
    "    f=jnp.where(index==i,1.0-cont,0.0)\n",
    "    g=jnp.where(index+1==i,cont,0.0)\n",
    "    return f+g"
   ]
  },
  {
   "cell_type": "code",
   "execution_count": 3,
   "metadata": {},
   "outputs": [],
   "source": [
    "def nc1D(x,xv):\n",
    "    \"\"\"neighbouring contribution array on a line.\n",
    "    \n",
    "    Args:\n",
    "        x: x value\n",
    "        xv: x grid\n",
    "            \n",
    "    Returns:\n",
    "        neighbouring contribution for i\n",
    "        \n",
    "    \"\"\"\n",
    "    indarr=jnp.arange(len(xv))\n",
    "    vcl=vmap(conti,(0,None,None),0)\n",
    "    return vcl(indarr,x,xv)"
   ]
  },
  {
   "cell_type": "code",
   "execution_count": 4,
   "metadata": {},
   "outputs": [
    {
     "name": "stdout",
     "output_type": "stream",
     "text": [
      "[0.         0.         0.70000005 0.29999995 0.         0.\n",
      " 0.         0.         0.         0.         0.        ]\n"
     ]
    }
   ],
   "source": [
    "xv=jnp.linspace(0,1,11) #grid\n",
    "print(nc1D(0.23,xv))"
   ]
  },
  {
   "cell_type": "code",
   "execution_count": 17,
   "metadata": {},
   "outputs": [],
   "source": [
    "from jax import grad"
   ]
  },
  {
   "cell_type": "code",
   "execution_count": 20,
   "metadata": {},
   "outputs": [],
   "source": [
    "def gnc1D(x,xv):\n",
    "    \"\"\"gradiend of neighbouring contribution array on a line by x.\n",
    "    \n",
    "    Args:\n",
    "        x: x value\n",
    "        xv: x grid\n",
    "            \n",
    "    Returns:\n",
    "        neighbouring contribution for i\n",
    "        \n",
    "    \"\"\"\n",
    "    indarr=jnp.arange(len(xv))\n",
    "    vcl=vmap(grad(conti,argnums=1),(0,None,None),0)\n",
    "    return vcl(indarr,x,xv)"
   ]
  },
  {
   "cell_type": "code",
   "execution_count": 21,
   "metadata": {},
   "outputs": [
    {
     "name": "stdout",
     "output_type": "stream",
     "text": [
      "[ 0.        0.       -9.999999  9.999999  0.        0.        0.\n",
      "  0.        0.        0.        0.      ]\n"
     ]
    }
   ],
   "source": [
    "print(gnc1D(0.23,xv))"
   ]
  },
  {
   "cell_type": "code",
   "execution_count": 22,
   "metadata": {},
   "outputs": [],
   "source": [
    "xv=jnp.linspace(0,1,11) #grid\n",
    "a=[]\n",
    "ga=[]\n",
    "for i,x in enumerate(jnp.linspace(0,1,101)):\n",
    "    a.append(nc1D(x,xv))\n",
    "    ga.append(gnc1D(x,xv))"
   ]
  },
  {
   "cell_type": "code",
   "execution_count": 23,
   "metadata": {},
   "outputs": [
    {
     "data": {
      "image/png": "[encoded data removed]",
      "text/plain": [
       "<Figure size 432x288 with 1 Axes>"
      ]
     },
     "metadata": {
      "needs_background": "light"
     },
     "output_type": "display_data"
    },
    {
     "data": {
      "image/png": "[encoded data removed]",
      "text/plain": [
       "<Figure size 432x288 with 1 Axes>"
      ]
     },
     "metadata": {
      "needs_background": "light"
     },
     "output_type": "display_data"
    }
   ],
   "source": [
    "import matplotlib.pyplot as plt\n",
    "plt.imshow(jnp.array(a).T)\n",
    "plt.show()\n",
    "plt.imshow(jnp.array(ga).T)\n",
    "plt.show()"
   ]
  },
  {
   "cell_type": "code",
   "execution_count": 7,
   "metadata": {},
   "outputs": [],
   "source": [
    "#2D case\n",
    "# x, y"
   ]
  },
  {
   "cell_type": "code",
   "execution_count": 12,
   "metadata": {},
   "outputs": [],
   "source": [
    "def nc2D(x,y,xv,yv):\n",
    "    \"\"\"2D neighbouring contribution.\n",
    "    \n",
    "    Args:\n",
    "        x: x value\n",
    "        y: x value\n",
    "        xv: x grid\n",
    "        yv: x grid\n",
    "            \n",
    "    Returns:\n",
    "        neighbouring contribution \n",
    "        \n",
    "    \"\"\"\n",
    "    indarrx=jnp.arange(len(xv))\n",
    "    indarry=jnp.arange(len(yv))\n",
    "    vcl=vmap(conti,(0,None,None),0)\n",
    "    fx=vcl(indarrx,x,xv)\n",
    "    fy=vcl(indarry,y,yv)\n",
    "    return fx[:,None]*fy[None,:]"
   ]
  },
  {
   "cell_type": "code",
   "execution_count": 13,
   "metadata": {},
   "outputs": [],
   "source": [
    "xv=jnp.linspace(0,1,11) #grid\n",
    "yv=jnp.linspace(0,1,11) #grid"
   ]
  },
  {
   "cell_type": "code",
   "execution_count": 14,
   "metadata": {},
   "outputs": [
    {
     "data": {
      "text/plain": [
       "<matplotlib.image.AxesImage at 0x7fc3637f9cf8>"
      ]
     },
     "execution_count": 14,
     "metadata": {},
     "output_type": "execute_result"
    },
    {
     "data": {
      "image/png": "[encoded data removed]",
      "text/plain": [
       "<Figure size 432x288 with 1 Axes>"
      ]
     },
     "metadata": {
      "needs_background": "light"
     },
     "output_type": "display_data"
    }
   ],
   "source": [
    "plt.imshow(nc2D(0.23,0.63,xv,yv))"
   ]
  },
  {
   "cell_type": "code",
   "execution_count": null,
   "metadata": {},
   "outputs": [],
   "source": []
  }
 ],
 "metadata": {
  "kernelspec": {
   "display_name": "Python 3",
   "language": "python",
   "name": "python3"
  },
  "language_info": {
   "codemirror_mode": {
    "name": "ipython",
    "version": 3
   },
   "file_extension": ".py",
   "mimetype": "text/x-python",
   "name": "python",
   "nbconvert_exporter": "python",
   "pygments_lexer": "ipython3",
   "version": "3.7.3"
  }
 },
 "nbformat": 4,
 "nbformat_minor": 2
}
