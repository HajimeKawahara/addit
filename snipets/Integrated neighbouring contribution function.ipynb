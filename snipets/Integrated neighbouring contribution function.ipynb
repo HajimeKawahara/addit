{
 "cells": [
  {
   "cell_type": "code",
   "execution_count": 2,
   "metadata": {},
   "outputs": [],
   "source": [
    "from addit.ncf import conti\n",
    "import jax.numpy as jnp\n",
    "import numpy as np"
   ]
  },
  {
   "cell_type": "code",
   "execution_count": null,
   "metadata": {},
   "outputs": [],
   "source": [
    "def inc1D(x,xv):\n",
    "    \"\"\"integrated neighbouring contribution array on a line.\n",
    "    \n",
    "    Args:\n",
    "        x: x values (N)\n",
    "        xv: x grid  (Ng)\n",
    "            \n",
    "    Returns:\n",
    "        integrated neighbouring contribution for i\n",
    "        \n",
    "    \"\"\"\n",
    "    indarr=jnp.arange(len(xv))\n",
    "    vcl=vmap(conti,(0,None,None),0)\n",
    "    return jnp.sum(vcl(indarr,x,xv),axis=1)"
   ]
  },
  {
   "cell_type": "code",
   "execution_count": 51,
   "metadata": {},
   "outputs": [],
   "source": [
    "from jax.lax import scan\n",
    "from jax import jit,vmap\n",
    "\n",
    "@jit\n",
    "def inc2D(x,y,xv,yv):\n",
    "    \"\"\"integrated 2D neighbouring contribution (memory reduced sum).\n",
    "    \n",
    "    Args:\n",
    "        x: x values\n",
    "        y: x values\n",
    "        xv: x grid\n",
    "        yv: x grid\n",
    "            \n",
    "    Returns:\n",
    "        neighbouring contribution \n",
    "        \n",
    "    Note:\n",
    "        This function computes \\sum_n fx_n \\otimes fy_n, \n",
    "        where fx_n and fy_n are the n-th NCFs for 1D. \n",
    "        A direct sum uses huge RAM. \n",
    "        In this function, we use jax.lax.scan to compute the sum\n",
    "        \n",
    "    Example:\n",
    "        >>>N=10000\n",
    "        >>> xv=jnp.linspace(0,1,11) #grid\n",
    "        >>> yv=jnp.linspace(0,1,11) #grid\n",
    "        >>> x=np.random.rand(N)\n",
    "        >>> y=np.random.rand(N)\n",
    "        >>> val=inc2D(x,y,xv,yv)\n",
    "        The direct sum is computed as\n",
    "        >>> valdirect=jnp.sum(nc2D(x,y,xv,yv),axis=2)\n",
    "        >>> jnp.mean(jnp.sqrt((val/valdirect-1.0)**2))\n",
    "        >>> DeviceArray(2.0836995e-07, dtype=float32)\n",
    "        \n",
    "    \"\"\"\n",
    "    Ngx=len(xv)\n",
    "    Ngy=len(yv)\n",
    "    indarrx=jnp.arange(Ngx)\n",
    "    indarry=jnp.arange(Ngy)\n",
    "    vcl=vmap(conti,(0,None,None),0)\n",
    "    fx=vcl(indarrx,x,xv) # Ngx x N  memory\n",
    "    fy=vcl(indarry,y,yv) # Ngy x N memory\n",
    "    #jnp.sum(fx[:,None]*fy[None,:],axis=2) Ngx x Ngy x N -> huge memory \n",
    "    \n",
    "    fxy=jnp.array([fx,fy]).T\n",
    "    def fsum(x,arr):\n",
    "        null=0.0\n",
    "        fx=arr[:,0]\n",
    "        fy=arr[:,1]\n",
    "        val=x+fx[:,None]*fy[None,:]\n",
    "        return val, null\n",
    "    \n",
    "    init0=jnp.zeros((Ngx,Ngy))\n",
    "    val,null=scan(fsum,init0,fxy)\n",
    "    return val\n",
    "    "
   ]
  },
  {
   "cell_type": "code",
   "execution_count": 8,
   "metadata": {},
   "outputs": [],
   "source": [
    "N=10000\n",
    "xv=jnp.linspace(0,1,11) #grid\n",
    "yv=jnp.linspace(0,1,11) #grid\n",
    "x=np.random.rand(N)\n",
    "y=np.random.rand(N)"
   ]
  },
  {
   "cell_type": "code",
   "execution_count": 52,
   "metadata": {},
   "outputs": [],
   "source": [
    "val=inc2D(x,y,xv,yv)\n",
    "valdirect=jnp.sum(nc2D(x,y,xv,yv),axis=2) # direct sum (lots memory)"
   ]
  },
  {
   "cell_type": "code",
   "execution_count": 56,
   "metadata": {},
   "outputs": [
    {
     "data": {
      "text/plain": [
       "DeviceArray(2.0836995e-07, dtype=float32)"
      ]
     },
     "execution_count": 56,
     "metadata": {},
     "output_type": "execute_result"
    }
   ],
   "source": [
    "jnp.mean(jnp.sqrt((val/valdirect-1.0)**2))"
   ]
  },
  {
   "cell_type": "code",
   "execution_count": 54,
   "metadata": {},
   "outputs": [
    {
     "data": {
      "image/png": "[encoded data removed]",
      "text/plain": [
       "<Figure size 432x288 with 4 Axes>"
      ]
     },
     "metadata": {
      "needs_background": "light"
     },
     "output_type": "display_data"
    }
   ],
   "source": [
    "import matplotlib.pyplot as plt\n",
    "fig=plt.figure()\n",
    "ax=fig.add_subplot(121)\n",
    "a=plt.imshow(val)\n",
    "plt.colorbar(a,shrink=0.3)\n",
    "plt.title(\"INCF\")\n",
    "ax=fig.add_subplot(122)\n",
    "a=plt.imshow((val/valdirect-1.0)*100)\n",
    "plt.colorbar(a,shrink=0.3)\n",
    "plt.title(\"difference (%)\")\n",
    "plt.show()"
   ]
  },
  {
   "cell_type": "code",
   "execution_count": 60,
   "metadata": {},
   "outputs": [],
   "source": [
    "@jit\n",
    "def inc3D(x,y,z,xv,yv,zv):\n",
    "    \"\"\"integrated neighbouring contribution for 3D (memory reduced sum).\n",
    "    \n",
    "    Args:\n",
    "        x: x values\n",
    "        y: y values\n",
    "        z: z values\n",
    "        xv: x grid\n",
    "        yv: y grid\n",
    "        zv: z grid            \n",
    "        \n",
    "    Returns:\n",
    "        integrated neighbouring contribution \n",
    "        \n",
    "    Note:\n",
    "        This function computes \\sum_n fx_n \\otimes fy_n \\otimes fz_n, \n",
    "        where fx_n, fy_n, and fz_n are the n-th NCFs for 1D. \n",
    "        A direct sum uses huge RAM. \n",
    "        In this function, we use jax.lax.scan to compute the sum\n",
    "        \n",
    "    Example:\n",
    "        >>>N=10000\n",
    "        >>> xv=jnp.linspace(0,1,11) #grid\n",
    "        >>> yv=jnp.linspace(0,1,11) #grid\n",
    "        >>> zv=jnp.linspace(0,1,11) #grid\n",
    "        >>> x=np.random.rand(N)\n",
    "        >>> y=np.random.rand(N)\n",
    "        >>> z=np.random.rand(N)\n",
    "        >>> val=inc3D(x,y,z,xv,yv,zv)\n",
    "        The direct sum is computed as\n",
    "        >>> valdirect=jnp.sum(nc3D(x,y,z,xv,yv,zv),axis=3) # direct sum (lots memory)\n",
    "        >>> jnp.mean(jnp.sqrt((val/valdirect-1.0)**2))\n",
    "        >>> DeviceArray(9.686315e-08, dtype=float32)\n",
    "        \n",
    "    \"\"\"\n",
    "    Ngx=len(xv)\n",
    "    Ngy=len(yv)\n",
    "    Ngz=len(zv)\n",
    "    indarrx=jnp.arange(Ngx)\n",
    "    indarry=jnp.arange(Ngy)\n",
    "    indarrz=jnp.arange(Ngz)\n",
    "    \n",
    "    vcl=vmap(conti,(0,None,None),0)\n",
    "    fx=vcl(indarrx,x,xv) # Ngx x N  memory\n",
    "    fy=vcl(indarry,y,yv) # Ngy x N memory\n",
    "    fz=vcl(indarrz,z,zv) # Ngz x N memory\n",
    "    fxyz=jnp.array([fx,fy,fz]).T\n",
    "    \n",
    "    def fsum(x,arr):\n",
    "        null=0.0\n",
    "        fx=arr[:,0]\n",
    "        fy=arr[:,1]\n",
    "        fz=arr[:,2]\n",
    "        val=x+fx[:,None,None]*fy[None,:,None]*fz[None,None,:]\n",
    "        return val, null\n",
    "    \n",
    "    init0=jnp.zeros((Ngx,Ngy,Ngz))\n",
    "    val,null=scan(fsum,init0,fxyz)\n",
    "    return val\n",
    "    "
   ]
  },
  {
   "cell_type": "code",
   "execution_count": 58,
   "metadata": {},
   "outputs": [],
   "source": [
    "N=10000\n",
    "xv=jnp.linspace(0,1,11) #grid\n",
    "yv=jnp.linspace(0,1,11) #grid\n",
    "zv=jnp.linspace(0,1,11) #grid\n",
    "x=np.random.rand(N)\n",
    "y=np.random.rand(N)\n",
    "z=np.random.rand(N)"
   ]
  },
  {
   "cell_type": "code",
   "execution_count": 62,
   "metadata": {},
   "outputs": [],
   "source": [
    "val=inc3D(x,y,z,xv,yv,zv)\n",
    "valdirect=jnp.sum(nc3D(x,y,z,xv,yv,zv),axis=3) # direct sum (lots memory)"
   ]
  },
  {
   "cell_type": "code",
   "execution_count": 63,
   "metadata": {},
   "outputs": [
    {
     "data": {
      "text/plain": [
       "DeviceArray(9.686315e-08, dtype=float32)"
      ]
     },
     "execution_count": 63,
     "metadata": {},
     "output_type": "execute_result"
    }
   ],
   "source": [
    "jnp.mean(jnp.sqrt((val/valdirect-1.0)**2))"
   ]
  },
  {
   "cell_type": "code",
   "execution_count": null,
   "metadata": {},
   "outputs": [],
   "source": []
  }
 ],
 "metadata": {
  "kernelspec": {
   "display_name": "Python 3",
   "language": "python",
   "name": "python3"
  },
  "language_info": {
   "codemirror_mode": {
    "name": "ipython",
    "version": 3
   },
   "file_extension": ".py",
   "mimetype": "text/x-python",
   "name": "python",
   "nbconvert_exporter": "python",
   "pygments_lexer": "ipython3",
   "version": "3.7.3"
  }
 },
 "nbformat": 4,
 "nbformat_minor": 2
}
