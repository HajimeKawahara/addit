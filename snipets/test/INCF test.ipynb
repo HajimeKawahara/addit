{
 "cells": [
  {
   "cell_type": "code",
   "execution_count": null,
   "metadata": {},
   "outputs": [],
   "source": [
    "from addit.ncf import inc2D, inc3D, nc2D, nc3D\n",
    "import jax.numpy as jnp\n",
    "import numpy as np"
   ]
  },
  {
   "cell_type": "code",
   "execution_count": null,
   "metadata": {},
   "outputs": [],
   "source": [
    "N=10000\n",
    "Ngx=11\n",
    "Ngy=13\n",
    "Ngz=17\n",
    "xv=np.linspace(0,1,Ngx) #nu grid\n",
    "yv=np.linspace(0,1,Ngy) #grid\n",
    "zv=np.linspace(0,1,Ngz) #grid\n",
    "w=np.logspace(1.0,3.0,N) #weight\n",
    "x=np.random.rand(N)\n",
    "y=np.random.rand(N)\n",
    "z=np.random.rand(N)"
   ]
  },
  {
   "cell_type": "code",
   "execution_count": null,
   "metadata": {},
   "outputs": [],
   "source": [
    "#2D\n",
    "val=inc2D(w,x,y,xv,yv)\n",
    "valdirect=jnp.sum(nc2D(x,y,xv,yv)*w,axis=2)"
   ]
  },
  {
   "cell_type": "code",
   "execution_count": null,
   "metadata": {},
   "outputs": [],
   "source": [
    "#maximum deviation\n",
    "print(jnp.max(jnp.abs((val-valdirect)/jnp.mean(valdirect)))*100,\"%\") #%\n",
    "#mean deviation\n",
    "print(jnp.sqrt(jnp.mean((val-valdirect)**2))/jnp.mean(valdirect)*100,\"%\") #%"
   ]
  },
  {
   "cell_type": "code",
   "execution_count": null,
   "metadata": {},
   "outputs": [],
   "source": [
    "#3D\n",
    "val=inc3D(w,x,y,z,xv,yv,zv)\n",
    "valdirect=jnp.sum(nc3D(x,y,z,xv,yv,zv)*w,axis=3)"
   ]
  },
  {
   "cell_type": "code",
   "execution_count": null,
   "metadata": {},
   "outputs": [],
   "source": [
    "#maximum deviation\n",
    "print(jnp.max(jnp.abs((val-valdirect)/jnp.mean(valdirect)))*100,\"%\") #%\n",
    "#mean deviation\n",
    "print(jnp.sqrt(jnp.mean((val-valdirect)**2))/jnp.mean(valdirect)*100,\"%\") #%"
   ]
  },
  {
   "cell_type": "code",
   "execution_count": null,
   "metadata": {},
   "outputs": [],
   "source": []
  }
 ],
 "metadata": {
  "kernelspec": {
   "display_name": "Python 3",
   "language": "python",
   "name": "python3"
  },
  "language_info": {
   "codemirror_mode": {
    "name": "ipython",
    "version": 3
   },
   "file_extension": ".py",
   "mimetype": "text/x-python",
   "name": "python",
   "nbconvert_exporter": "python",
   "pygments_lexer": "ipython3",
   "version": "3.7.3"
  }
 },
 "nbformat": 4,
 "nbformat_minor": 2
}
