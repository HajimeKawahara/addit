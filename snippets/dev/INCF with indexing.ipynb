{
 "cells": [
  {
   "cell_type": "markdown",
   "id": "f4bfe438",
   "metadata": {},
   "source": [
    "# new INCF\n",
    "\n",
    "\n",
    "INCF integrated neighbouring contribution functions have been updated in Aug 10th (2021) because the previous one is computationally too heavy."
   ]
  },
  {
   "cell_type": "code",
   "execution_count": 1,
   "id": "25ccf0cc",
   "metadata": {},
   "outputs": [],
   "source": [
    "import jax.numpy as jnp\n",
    "import numpy as np\n",
    "from jax import jit\n",
    "from jax import vmap\n",
    "from jax.lax import scan\n",
    "from jax.ops import index_add\n",
    "from jax.ops import index as joi"
   ]
  },
  {
   "cell_type": "markdown",
   "id": "66c8d7da",
   "metadata": {},
   "source": [
    "## OLD code"
   ]
  },
  {
   "cell_type": "code",
   "execution_count": 2,
   "id": "318df7d1",
   "metadata": {},
   "outputs": [],
   "source": [
    "@jit\n",
    "def Xncf(i,x,xv):\n",
    "    \"\"\"neighbouring contribution function for index i.                          \n",
    "                                                                                \n",
    "    Args:                                                                       \n",
    "        i: index                                                                \n",
    "        x: x value                                                              \n",
    "        xv: x-grid                                                              \n",
    "                                                                                \n",
    "    Returns:                                                                    \n",
    "        neighbouring contribution function of x to the i-th component of the ar\\\n",
    "ray with the same dimension as xv.                                              \n",
    "                                                                                \n",
    "    \"\"\"\n",
    "    indarr=jnp.arange(len(xv))\n",
    "    pos = jnp.interp(x,xv,indarr)\n",
    "    index = (pos).astype(int)\n",
    "    cont = pos-index\n",
    "    f=jnp.where(index==i,1.0-cont,0.0)\n",
    "    g=jnp.where(index+1==i,cont,0.0)\n",
    "    return f+g"
   ]
  },
  {
   "cell_type": "code",
   "execution_count": 22,
   "id": "5fcf7b36",
   "metadata": {},
   "outputs": [],
   "source": [
    "from jax.lax import scan\n",
    "from jax import jit,vmap\n",
    "\n",
    "@jit\n",
    "def inc2D_old(w, x,y,xv,yv):\n",
    "\n",
    "    Ngx=len(xv)\n",
    "    Ngy=len(yv)\n",
    "    indarrx=jnp.arange(Ngx)\n",
    "    indarry=jnp.arange(Ngy)\n",
    "    vcl=vmap(Xncf,(0,None,None),0)\n",
    "    fx=vcl(indarrx,x,xv) # Ngx x N  memory\n",
    "    fy=vcl(indarry,y,yv) # Ngy x N memory\n",
    "    #jnp.sum(fx[:,None]*fy[None,:],axis=2) Ngx x Ngy x N -> huge memory \n",
    "    \n",
    "    fxy=jnp.vstack([fx,fy,w]).T\n",
    "    def fsum(x,arr):\n",
    "        null=0.0\n",
    "        fx=arr[0:Ngx]\n",
    "        fy=arr[Ngx:Ngx+Ngy]\n",
    "        w=arr[Ngx+Ngy]\n",
    "        val=x+w*fx[:,None]*fy[None,:]\n",
    "        return val, null\n",
    "    \n",
    "    init0=jnp.zeros((Ngx,Ngy))\n",
    "    val,null=scan(fsum,init0,fxy)\n",
    "    return val\n",
    "    "
   ]
  },
  {
   "cell_type": "code",
   "execution_count": 23,
   "id": "6cb018c0",
   "metadata": {},
   "outputs": [],
   "source": [
    "w=jnp.array([1.0,0.7,0.4])\n",
    "x=jnp.array([1.2,2.3,2.7])\n",
    "xv=jnp.linspace(0,4,3)\n",
    "\n",
    "y=jnp.array([0.5,2.7,0.1])\n",
    "yv=jnp.linspace(0,4,4)"
   ]
  },
  {
   "cell_type": "code",
   "execution_count": 24,
   "id": "d8a9b1c6",
   "metadata": {},
   "outputs": [],
   "source": [
    "#old code\n",
    "b=inc2D_old(w,x,y,xv,yv)"
   ]
  },
  {
   "cell_type": "markdown",
   "id": "b60f4ecc",
   "metadata": {},
   "source": [
    "## new code (Aug 10. after the 2nd vaccineization of Covid-19)"
   ]
  },
  {
   "cell_type": "code",
   "execution_count": 25,
   "id": "1efa9870",
   "metadata": {},
   "outputs": [],
   "source": [
    "def getix(x,xv):\n",
    "    indarr=jnp.arange(len(xv))\n",
    "    pos = jnp.interp(x,xv,indarr)\n",
    "    index = (pos).astype(int)\n",
    "    cont = (pos-index)\n",
    "    return cont,index"
   ]
  },
  {
   "cell_type": "code",
   "execution_count": 26,
   "id": "83e4636b",
   "metadata": {},
   "outputs": [],
   "source": [
    "@jit\n",
    "def inc2D(w,x,y,xv,yv):\n",
    "    cx,ix=getix(x,xv)\n",
    "    cy,iy=getix(y,yv)\n",
    "    a=jnp.zeros((len(xv),len(yv)))\n",
    "    a=index_add(a,joi[ix,iy],w*(1-cx)*(1-cy))\n",
    "    a=index_add(a,joi[ix,iy+1],w*(1-cx)*cy)\n",
    "    a=index_add(a,joi[ix+1,iy],w*cx*(1-cy))\n",
    "    a=index_add(a,joi[ix+1,iy+1],w*cx*cy)\n",
    "    return a\n"
   ]
  },
  {
   "cell_type": "code",
   "execution_count": 28,
   "id": "920172b6",
   "metadata": {},
   "outputs": [
    {
     "data": {
      "text/plain": [
       "DeviceArray([[0.24999999, 0.14999999, 0.        , 0.        ],\n",
       "             [0.6155    , 0.24450001, 0.580125  , 0.01487506],\n",
       "             [0.12950002, 0.0105    , 0.10237497, 0.00262501]],            dtype=float32)"
      ]
     },
     "execution_count": 28,
     "metadata": {},
     "output_type": "execute_result"
    }
   ],
   "source": [
    "a=inc2D(w,x,y,xv,yv)\n",
    "a"
   ]
  },
  {
   "cell_type": "code",
   "execution_count": 31,
   "id": "dec2472c",
   "metadata": {},
   "outputs": [
    {
     "data": {
      "text/plain": [
       "DeviceArray([[0.24999999, 0.14999999, 0.        , 0.        ],\n",
       "             [0.6155    , 0.24450001, 0.580125  , 0.01487506],\n",
       "             [0.12950002, 0.0105    , 0.10237497, 0.00262501]],            dtype=float32)"
      ]
     },
     "execution_count": 31,
     "metadata": {},
     "output_type": "execute_result"
    }
   ],
   "source": [
    "b=inc2D_old(w,x,y,xv,yv)\n",
    "b"
   ]
  },
  {
   "cell_type": "code",
   "execution_count": 32,
   "id": "73dbb071",
   "metadata": {},
   "outputs": [
    {
     "data": {
      "text/plain": [
       "DeviceArray(0., dtype=float32)"
      ]
     },
     "execution_count": 32,
     "metadata": {},
     "output_type": "execute_result"
    }
   ],
   "source": [
    "np.sum((a-b)**2)"
   ]
  },
  {
   "cell_type": "code",
   "execution_count": 33,
   "id": "6b89024f",
   "metadata": {},
   "outputs": [
    {
     "name": "stdout",
     "output_type": "stream",
     "text": [
      "227 µs ± 48.6 µs per loop (mean ± std. dev. of 7 runs, 1000 loops each)\n"
     ]
    }
   ],
   "source": [
    "%timeit a=inc2D(w,x,y,xv,yv)"
   ]
  },
  {
   "cell_type": "code",
   "execution_count": 34,
   "id": "76892c44",
   "metadata": {},
   "outputs": [
    {
     "name": "stdout",
     "output_type": "stream",
     "text": [
      "285 µs ± 8.26 µs per loop (mean ± std. dev. of 7 runs, 1000 loops each)\n"
     ]
    }
   ],
   "source": [
    "%timeit b=inc2D_old(w,x,y,xv,yv)"
   ]
  },
  {
   "cell_type": "markdown",
   "id": "64057680",
   "metadata": {},
   "source": [
    "For a few lines, both codes gives simliar computational time. However when the number of lines is large ..."
   ]
  },
  {
   "cell_type": "code",
   "execution_count": 35,
   "id": "7abc9f4b",
   "metadata": {},
   "outputs": [],
   "source": [
    "Nl=10000\n",
    "w=jnp.array(np.random.rand(Nl))\n",
    "x=jnp.array(np.random.rand(Nl)*3)\n",
    "xv=jnp.linspace(0,4,3)\n",
    "\n",
    "y=jnp.array(np.random.rand(Nl)*4)\n",
    "yv=jnp.linspace(0,4,4)"
   ]
  },
  {
   "cell_type": "code",
   "execution_count": 36,
   "id": "c0105b70",
   "metadata": {},
   "outputs": [
    {
     "name": "stdout",
     "output_type": "stream",
     "text": [
      "207 µs ± 29.1 µs per loop (mean ± std. dev. of 7 runs, 1 loop each)\n"
     ]
    }
   ],
   "source": [
    "%timeit a=inc2D(w,x,y,xv,yv)"
   ]
  },
  {
   "cell_type": "code",
   "execution_count": 37,
   "id": "6a097e13",
   "metadata": {},
   "outputs": [
    {
     "name": "stdout",
     "output_type": "stream",
     "text": [
      "80.8 ms ± 3.24 ms per loop (mean ± std. dev. of 7 runs, 1 loop each)\n"
     ]
    }
   ],
   "source": [
    "%timeit b=inc2D_old(w,x,y,xv,yv)"
   ]
  },
  {
   "cell_type": "markdown",
   "id": "f85a1960",
   "metadata": {},
   "source": [
    "siginificant difference!"
   ]
  },
  {
   "cell_type": "code",
   "execution_count": null,
   "id": "1295885f",
   "metadata": {},
   "outputs": [],
   "source": []
  }
 ],
 "metadata": {
  "kernelspec": {
   "display_name": "Python 3 (ipykernel)",
   "language": "python",
   "name": "python3"
  },
  "language_info": {
   "codemirror_mode": {
    "name": "ipython",
    "version": 3
   },
   "file_extension": ".py",
   "mimetype": "text/x-python",
   "name": "python",
   "nbconvert_exporter": "python",
   "pygments_lexer": "ipython3",
   "version": "3.8.8"
  }
 },
 "nbformat": 4,
 "nbformat_minor": 5
}
