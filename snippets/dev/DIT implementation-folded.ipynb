{
 "cells": [
  {
   "cell_type": "code",
   "execution_count": 2,
   "metadata": {},
   "outputs": [],
   "source": [
    "from addit.ncf import Xncf\n",
    "import jax.numpy as jnp\n",
    "import numpy as np\n",
    "from jax.lax import scan\n",
    "from jax import jit, vmap\n",
    "from addit.ncf import inc3D"
   ]
  },
  {
   "cell_type": "code",
   "execution_count": 130,
   "metadata": {},
   "outputs": [],
   "source": [
    "N=10\n",
    "Ng_nu=2000\n",
    "Ng_beta=5\n",
    "Ng_gammaL=4\n",
    "\n",
    "nus=np.linspace(1900.0,2300.0,Ng_nu) #nu grid\n",
    "beta_grid=np.logspace(-2,1,Ng_beta) #beta grid\n",
    "gammaL_grid=np.logspace(-2,1,Ng_gammaL)#gammaL grid\n",
    "S=np.logspace(0.0,2.0,N)\n",
    "S[0:10]=1000.0\n",
    "\n",
    "nu_lines=np.linspace(1950.0,2250.0,N)\n",
    "beta=np.random.rand(N)*0.1\n",
    "gammaL=np.random.rand(N)*0.01"
   ]
  },
  {
   "cell_type": "code",
   "execution_count": 131,
   "metadata": {},
   "outputs": [
    {
     "data": {
      "image/png": "[encoded data removed]",
      "text/plain": [
       "<Figure size 432x288 with 1 Axes>"
      ]
     },
     "metadata": {
      "needs_background": "light"
     },
     "output_type": "display_data"
    }
   ],
   "source": [
    "import matplotlib.pyplot as plt\n",
    "plt.plot(nu_lines,S,\".\")\n",
    "plt.xlim(nus[0],nus[-1])\n",
    "plt.yscale(\"log\")\n",
    "plt.show()"
   ]
  },
  {
   "cell_type": "code",
   "execution_count": 132,
   "metadata": {},
   "outputs": [],
   "source": [
    "def voigt_kernel(k, beta,gammaL):\n",
    "    \"\"\"Fourier Kernel of the Voigt Profile\n",
    "    \n",
    "    Args:\n",
    "        k: conjugated of wavenumber\n",
    "        beta: Gaussian standard deviation\n",
    "        gammaL: Lorentian Half Width\n",
    "        \n",
    "    Returns:\n",
    "        kernel (N_x,N_beta,N_gammaL)\n",
    "    \n",
    "    Note:\n",
    "        Conversions to the (full) width, wG and wL are as follows: \n",
    "        wG=2*sqrt(2*ln2) beta\n",
    "        wL=2*gamma\n",
    "    \n",
    "    \"\"\"\n",
    "    val=(jnp.pi*beta[None,:,None]*k[:,None,None])**2 + jnp.pi*gammaL[None,None,:]*k[:,None,None]\n",
    "    return jnp.exp(-2.0*val)\n",
    "    "
   ]
  },
  {
   "cell_type": "code",
   "execution_count": 155,
   "metadata": {},
   "outputs": [],
   "source": [
    "def rundit(S,nu_lines,beta,gammaL,nu_grid,beta_grid,gammaL_grid):\n",
    "    \"\"\"run DIT\n",
    "    \n",
    "    \"\"\"\n",
    "    Ng_nu=len(nu_grid)\n",
    "    Ng_beta=len(beta_grid)\n",
    "    Ng_gammaL=len(gammaL_grid)\n",
    "    \n",
    "    log_beta=jnp.log(beta)\n",
    "    log_gammaL=jnp.log(gammaL)\n",
    "    \n",
    "    log_beta_grid = jnp.log(beta_grid)\n",
    "    log_gammaL_grid = jnp.log(gammaL_grid)\n",
    "    \n",
    "    dnu = (nu_grid[-1]-nu_grid[0])/(Ng_nu-1)\n",
    "    k = jnp.fft.rfftfreq(2*Ng_nu,dnu)\n",
    "    val=inc3D(S,nu_lines,log_beta,log_gammaL,nu_grid,log_beta_grid,log_gammaL_grid)\n",
    "    valbuf=jnp.vstack([val,jnp.zeros_like(val)])\n",
    "    fftval = jnp.fft.rfft(valbuf,axis=0)\n",
    "    vk=voigt_kernel(k, beta_grid,gammaL_grid)\n",
    "    fftvalsum = jnp.sum(fftval*vk,axis=(1,2))\n",
    "    F0=jnp.fft.irfft(fftvalsum)[:Ng_nu]/dnu\n",
    "    return F0"
   ]
  },
  {
   "cell_type": "code",
   "execution_count": 133,
   "metadata": {},
   "outputs": [],
   "source": [
    "from jax.lax import scan\n",
    "def folded_voigt_kernel(k,beta,gammaL,Nfold,dnu):\n",
    "    \"\"\"Folded Fourier Kernel of the Voigt Profile\n",
    "    \n",
    "    Args:\n",
    "        k: conjugate wavenumber\n",
    "        beta: Gaussian standard deviation\n",
    "        gammaL: Lorentian Half Width\n",
    "        Nfold: Folding number\n",
    "        dnu: linear waveunmber grid size\n",
    "        \n",
    "    Returns:\n",
    "        kernel (N_x,N_beta,N_gammaL)\n",
    "    \n",
    "    Note:\n",
    "        Conversions to the (full) width, wG and wL are as follows: \n",
    "        wG=2*sqrt(2*ln2) beta\n",
    "        wL=2*gamma\n",
    "    \n",
    "    \"\"\"\n",
    "\n",
    "    def ffold(val,dL):\n",
    "        val=val+jnp.exp(-2.0*((jnp.pi*beta[None,:,None]*(k[:,None,None]+dL))**2 \\\n",
    "                              + jnp.pi*gammaL[None,None,:]*(k[:,None,None]+dL)))\n",
    "        val=val+jnp.exp(-2.0*((jnp.pi*beta[None,:,None]*(k[:,None,None]-dL))**2 \\\n",
    "                              + jnp.pi*gammaL[None,None,:]*(dL-k[:,None,None])))\n",
    "        null=0.0\n",
    "        return val, null\n",
    "    \n",
    "    print(jnp.max(k),1.0/dnu)\n",
    "    val=jnp.exp(-2.0*((jnp.pi*beta[None,:,None]*k[:,None,None])**2 + jnp.pi*gammaL[None,None,:]*k[:,None,None]))\n",
    "    dLarray=jnp.linspace(1,Nfold,Nfold)/dnu\n",
    "    \n",
    "    val,nullstack=scan(ffold, val, dLarray)\n",
    "    \n",
    "    return val\n",
    "    "
   ]
  },
  {
   "cell_type": "code",
   "execution_count": 134,
   "metadata": {},
   "outputs": [
    {
     "data": {
      "text/plain": [
       "DeviceArray([1., 2., 3., 4.], dtype=float32)"
      ]
     },
     "execution_count": 134,
     "metadata": {},
     "output_type": "execute_result"
    }
   ],
   "source": [
    "jnp.linspace(1,4,4)"
   ]
  },
  {
   "cell_type": "code",
   "execution_count": 154,
   "metadata": {},
   "outputs": [],
   "source": [
    "def runditfold(S,nu_lines,beta,gammaL,nu_grid,beta_grid,gammaL_grid,Nfold):\n",
    "    \"\"\"run DIT folded voigt\n",
    "    \n",
    "    \"\"\"\n",
    "    Ng_nu=len(nu_grid)\n",
    "    Ng_beta=len(beta_grid)\n",
    "    Ng_gammaL=len(gammaL_grid)\n",
    "    \n",
    "    log_beta=jnp.log(beta)\n",
    "    log_gammaL=jnp.log(gammaL)\n",
    "    \n",
    "    log_beta_grid = jnp.log(beta_grid)\n",
    "    log_gammaL_grid = jnp.log(gammaL_grid)\n",
    "    \n",
    "    dnu = (nu_grid[-1]-nu_grid[0])/(Ng_nu-1)\n",
    "    k = jnp.fft.rfftfreq(2*Ng_nu,dnu)\n",
    "    val=inc3D(S,nu_lines,log_beta,log_gammaL,nu_grid,log_beta_grid,log_gammaL_grid)\n",
    "    valbuf=jnp.vstack([val,jnp.zeros_like(val)])\n",
    "    fftval = jnp.fft.rfft(valbuf,axis=0)\n",
    "    vk=folded_voigt_kernel(k, beta_grid,gammaL_grid, Nfold, dnu)\n",
    "    fftvalsum = jnp.sum(fftval*vk,axis=(1,2))\n",
    "    F0=jnp.fft.irfft(fftvalsum)[:Ng_nu]/dnu\n",
    "    return F0"
   ]
  },
  {
   "cell_type": "code",
   "execution_count": 160,
   "metadata": {},
   "outputs": [],
   "source": [
    "def f1_voigt_kernel(k,beta,gammaL,dnu):\n",
    "    \"\"\"Folded Fourier Kernel of the Voigt Profile for Nfold=1 (not using scan)\n",
    "    \n",
    "    Args:\n",
    "        k: conjugate wavenumber\n",
    "        beta: Gaussian standard deviation\n",
    "        gammaL: Lorentian Half Width\n",
    "        dnu: linear waveunmber grid size\n",
    "        \n",
    "    Returns:\n",
    "        kernel (N_x,N_beta,N_gammaL)\n",
    "    \n",
    "    Note:\n",
    "        Conversions to the (full) width, wG and wL are as follows: \n",
    "        wG=2*sqrt(2*ln2) beta\n",
    "        wL=2*gamma\n",
    "    \n",
    "    \"\"\"\n",
    "    \n",
    "    dL=1.0/dnu\n",
    "    val=jnp.exp(-2.0*((jnp.pi*beta[None,:,None]*k[:,None,None])**2 + jnp.pi*gammaL[None,None,:]*k[:,None,None]))\n",
    "    val=val+jnp.exp(-2.0*((jnp.pi*beta[None,:,None]*(k[:,None,None]+dL))**2 \\\n",
    "                              + jnp.pi*gammaL[None,None,:]*(k[:,None,None]+dL)))\n",
    "    val=val+jnp.exp(-2.0*((jnp.pi*beta[None,:,None]*(k[:,None,None]-dL))**2 \\\n",
    "                              + jnp.pi*gammaL[None,None,:]*(dL-k[:,None,None])))   \n",
    "    \n",
    "    return val\n",
    "    "
   ]
  },
  {
   "cell_type": "code",
   "execution_count": 161,
   "metadata": {},
   "outputs": [],
   "source": [
    "def runditf1(S,nu_lines,beta,gammaL,nu_grid,beta_grid,gammaL_grid):\n",
    "    \"\"\"run DIT folded voigt but Nfold=1 (not using scan)\n",
    "    \n",
    "    \"\"\"\n",
    "    Ng_nu=len(nu_grid)\n",
    "    Ng_beta=len(beta_grid)\n",
    "    Ng_gammaL=len(gammaL_grid)\n",
    "    \n",
    "    log_beta=jnp.log(beta)\n",
    "    log_gammaL=jnp.log(gammaL)\n",
    "    \n",
    "    log_beta_grid = jnp.log(beta_grid)\n",
    "    log_gammaL_grid = jnp.log(gammaL_grid)\n",
    "    \n",
    "    dnu = (nu_grid[-1]-nu_grid[0])/(Ng_nu-1)\n",
    "    k = jnp.fft.rfftfreq(2*Ng_nu,dnu)\n",
    "    val=inc3D(S,nu_lines,log_beta,log_gammaL,nu_grid,log_beta_grid,log_gammaL_grid)\n",
    "    valbuf=jnp.vstack([val,jnp.zeros_like(val)])\n",
    "    fftval = jnp.fft.rfft(valbuf,axis=0)\n",
    "    vk=f1_voigt_kernel(k, beta_grid,gammaL_grid,dnu)\n",
    "    fftvalsum = jnp.sum(fftval*vk,axis=(1,2))\n",
    "    F0=jnp.fft.irfft(fftvalsum)[:Ng_nu]/dnu\n",
    "    return F0"
   ]
  },
  {
   "cell_type": "code",
   "execution_count": 162,
   "metadata": {},
   "outputs": [
    {
     "name": "stdout",
     "output_type": "stream",
     "text": [
      "2.4987502 4.9975000000000005\n"
     ]
    }
   ],
   "source": [
    "F0=rundit(S,nu_lines,beta,gammaL,nus,beta_grid,gammaL_grid)\n",
    "F0f=runditfold(S,nu_lines,beta,gammaL,nus,beta_grid,gammaL_grid,1)\n",
    "F0f1=runditf1(S,nu_lines,beta,gammaL,nus,beta_grid,gammaL_grid)"
   ]
  },
  {
   "cell_type": "code",
   "execution_count": 163,
   "metadata": {},
   "outputs": [
    {
     "data": {
      "text/plain": [
       "DeviceArray([0., 0., 0., ..., 0., 0., 0.], dtype=float32)"
      ]
     },
     "execution_count": 163,
     "metadata": {},
     "output_type": "execute_result"
    }
   ],
   "source": [
    "F0f-F0f1"
   ]
  },
  {
   "cell_type": "code",
   "execution_count": 138,
   "metadata": {},
   "outputs": [
    {
     "name": "stdout",
     "output_type": "stream",
     "text": [
      "0\n"
     ]
    }
   ],
   "source": [
    "print(len(F0[F0<0.0]))\n",
    "#print(jnp.min(F0[F0<0.0]),jnp.median(F0[F0<0.0]))"
   ]
  },
  {
   "cell_type": "code",
   "execution_count": 152,
   "metadata": {},
   "outputs": [
    {
     "data": {
      "text/plain": [
       "Text(0, 0.5, '- F0')"
      ]
     },
     "execution_count": 152,
     "metadata": {},
     "output_type": "execute_result"
    },
    {
     "data": {
      "image/png": "[encoded data removed]",
      "text/plain": [
       "<Figure size 720x360 with 2 Axes>"
      ]
     },
     "metadata": {
      "needs_background": "light"
     },
     "output_type": "display_data"
    }
   ],
   "source": [
    "import matplotlib.pyplot as plt\n",
    "fig=plt.figure(figsize=(10,5))\n",
    "ax=fig.add_subplot(211)\n",
    "plt.plot(nus,F0,\".\")\n",
    "for i in nus[F0<0]:\n",
    "    plt.axvline(i,alpha=0.1,color=\"C1\")\n",
    "plt.ylabel(\"F0\")\n",
    "\n",
    "ax=fig.add_subplot(212)\n",
    "plt.plot(nus,-F0,\".\")\n",
    "for i in nus[F0<0]:\n",
    "    plt.axvline(i,alpha=0.1,color=\"C1\")\n",
    "plt.yscale(\"log\")\n",
    "plt.ylabel(\"- F0\")\n",
    "#plt.xlim(2047,2052)"
   ]
  },
  {
   "cell_type": "code",
   "execution_count": 153,
   "metadata": {},
   "outputs": [
    {
     "name": "stderr",
     "output_type": "stream",
     "text": [
      "/home/kawahara/anaconda3/lib/python3.7/site-packages/ipykernel_launcher.py:13: UserWarning: Data has no positive values, and therefore cannot be log-scaled.\n",
      "  del sys.path[0]\n"
     ]
    },
    {
     "data": {
      "text/plain": [
       "Text(0, 0.5, '- F0f')"
      ]
     },
     "execution_count": 153,
     "metadata": {},
     "output_type": "execute_result"
    },
    {
     "data": {
      "image/png": "[encoded data removed]",
      "text/plain": [
       "<Figure size 720x360 with 2 Axes>"
      ]
     },
     "metadata": {
      "needs_background": "light"
     },
     "output_type": "display_data"
    }
   ],
   "source": [
    "import matplotlib.pyplot as plt\n",
    "fig=plt.figure(figsize=(10,5))\n",
    "ax=fig.add_subplot(211)\n",
    "plt.plot(nus,F0f,\".\")\n",
    "for i in nus[F0f<0]:\n",
    "    plt.axvline(i,alpha=0.1,color=\"C1\")\n",
    "plt.ylabel(\"F0f\")\n",
    "\n",
    "ax=fig.add_subplot(212)\n",
    "plt.plot(nus,-F0f,\".\")\n",
    "for i in nus[F0f<0]:\n",
    "    plt.axvline(i,alpha=0.1,color=\"C1\")\n",
    "plt.yscale(\"log\")\n",
    "plt.ylabel(\"- F0f\")\n",
    "#plt.xlim(2047,2052)"
   ]
  },
  {
   "cell_type": "code",
   "execution_count": 140,
   "metadata": {},
   "outputs": [
    {
     "name": "stdout",
     "output_type": "stream",
     "text": [
      "2.4987502 4.9975000000000005\n"
     ]
    }
   ],
   "source": [
    "F0x=rundit(S,nu_lines,beta,gammaL,nus,beta_grid,gammaL_grid)"
   ]
  },
  {
   "cell_type": "code",
   "execution_count": 85,
   "metadata": {},
   "outputs": [
    {
     "name": "stdout",
     "output_type": "stream",
     "text": [
      "(2000, 5, 4) (4000, 5, 4)\n"
     ]
    }
   ],
   "source": [
    "val=inc3D(S,nu_lines,beta,gammaL,nus,beta_grid,gammaL_grid)\n",
    "valbuf=jnp.vstack([val,jnp.zeros_like(val)])\n",
    "print(jnp.shape(val),jnp.shape(valbuf))"
   ]
  },
  {
   "cell_type": "code",
   "execution_count": 28,
   "metadata": {},
   "outputs": [],
   "source": [
    "def check_norm(nu_grid,beta,gammaL):\n",
    "    Ng_nu=len(nu_grid)\n",
    "    dnu = (nu_grid[-1]-nu_grid[0])/(Ng_nu-1)\n",
    "    k = jnp.fft.rfftfreq(2*Ng_nu,dnu)\n",
    "    val=(jnp.pi*beta[None,:,None]*k[:,None,None])**2 + jnp.pi*gammaL[None,None,:]*k[:,None,None]\n",
    "    return jnp.mean(val),jnp.min(val),jnp.max(val)"
   ]
  },
  {
   "cell_type": "code",
   "execution_count": 29,
   "metadata": {},
   "outputs": [
    {
     "data": {
      "text/plain": [
       "(DeviceArray(170076.8, dtype=float32),\n",
       " DeviceArray(0., dtype=float32),\n",
       " DeviceArray(2468848.5, dtype=float32))"
      ]
     },
     "execution_count": 29,
     "metadata": {},
     "output_type": "execute_result"
    }
   ],
   "source": [
    "check_norm(nus, beta_grid,gammaL_grid)"
   ]
  },
  {
   "cell_type": "code",
   "execution_count": 23,
   "metadata": {},
   "outputs": [
    {
     "data": {
      "text/plain": [
       "DeviceArray(0.990519, dtype=float32)"
      ]
     },
     "execution_count": 23,
     "metadata": {},
     "output_type": "execute_result"
    }
   ],
   "source": [
    "jnp.sum(F0)/jnp.sum(F0x)"
   ]
  },
  {
   "cell_type": "code",
   "execution_count": 32,
   "metadata": {},
   "outputs": [
    {
     "data": {
      "image/png": "[encoded data removed]",
      "text/plain": [
       "<Figure size 432x288 with 1 Axes>"
      ]
     },
     "metadata": {
      "needs_background": "light"
     },
     "output_type": "display_data"
    }
   ],
   "source": [
    "import matplotlib.pyplot as plt\n",
    "#.plot(nus,F0x[:Ng_nu])\n",
    "plt.plot(nus,F0)\n",
    "#plt.yscale(\"log\")\n",
    "#plt.xlim(1960,1970)\n",
    "plt.show()"
   ]
  },
  {
   "cell_type": "code",
   "execution_count": null,
   "metadata": {},
   "outputs": [],
   "source": []
  }
 ],
 "metadata": {
  "kernelspec": {
   "display_name": "Python 3",
   "language": "python",
   "name": "python3"
  },
  "language_info": {
   "codemirror_mode": {
    "name": "ipython",
    "version": 3
   },
   "file_extension": ".py",
   "mimetype": "text/x-python",
   "name": "python",
   "nbconvert_exporter": "python",
   "pygments_lexer": "ipython3",
   "version": "3.7.3"
  }
 },
 "nbformat": 4,
 "nbformat_minor": 2
}
